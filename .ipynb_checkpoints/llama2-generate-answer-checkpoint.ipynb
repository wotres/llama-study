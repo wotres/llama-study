{
 "cells": [
  {
   "cell_type": "markdown",
   "id": "72b303db-7a18-4e6b-8308-957796cd7fbe",
   "metadata": {},
   "source": [
    "# Load Model"
   ]
  },
  {
   "cell_type": "code",
   "execution_count": null,
   "id": "4a0ce15c-e7ab-4742-8f91-897ce5ddd6e4",
   "metadata": {},
   "outputs": [],
   "source": [
    "from transformers import AutoTokenizer\n",
    "import transformers\n",
    "import torch\n",
    "\n",
    "model = \"Llama-2-7b-chat\"\n",
    "\n",
    "# 모델에 해당되는 토크나이저 로드\n",
    "tokenizer = AutoTokenizer.from_pretrained(\n",
    "    model,\n",
    "    use_auth_token=True, # 인증 토큰 사용\n",
    ")\n",
    "\n",
    "pipeline = transformers.pipeline(\n",
    "    \"text-generation\",\n",
    "    model=model,\n",
    "    torch_dtype=torch.float16, # 데이터 타입을 16비트로\n",
    "    device_map=\"auto\", # 자동으로 GPU 에 할당\n",
    ")"
   ]
  },
  {
   "cell_type": "code",
   "execution_count": 1,
   "id": "bd588bc6-97a1-4f84-8d46-869e87862e2d",
   "metadata": {},
   "outputs": [],
   "source": [
    "def generate_answer(question, max_length=200):\n",
    "    sequences = pipeline(\n",
    "        question,\n",
    "        do_sample=True, # 답변 무작위 샘플링\n",
    "        top_k=10, # 답변 생성시 모델이 다음 토큰을 예측할때 확률 분포에서 올 수 있는 토큰 수 k 개만 고려 => 계산량 줌\n",
    "        num_return_sequences=1, # 생성할 답변 개수\n",
    "        eos_token_id=tokenizer.eos_token_id, # 문장의 끝을 나타내는 토큰 ID 지정\n",
    "        max_length=max_length, # 몇개의 토큰을 생성할것 인가\n",
    "    )\n",
    "\n",
    "    # generated_text 에는 사용자 질문이 포함되어 있기 때문에 제거 => 답변만 리턴\n",
    "    return sequences[0][\"generated_text\"].replace(question, \"\")"
   ]
  },
  {
   "cell_type": "code",
   "execution_count": null,
   "id": "a029ad7a-914e-4230-ba9c-f3afdf304fbd",
   "metadata": {},
   "outputs": [],
   "source": [
    "generate_answer(\"hi\")"
   ]
  }
 ],
 "metadata": {
  "kernelspec": {
   "display_name": "Python 3 (ipykernel)",
   "language": "python",
   "name": "python3"
  },
  "language_info": {
   "codemirror_mode": {
    "name": "ipython",
    "version": 3
   },
   "file_extension": ".py",
   "mimetype": "text/x-python",
   "name": "python",
   "nbconvert_exporter": "python",
   "pygments_lexer": "ipython3",
   "version": "3.11.4"
  }
 },
 "nbformat": 4,
 "nbformat_minor": 5
}
